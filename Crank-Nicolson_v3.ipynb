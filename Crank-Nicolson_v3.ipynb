{
 "cells": [
  {
   "cell_type": "code",
   "execution_count": null,
   "metadata": {},
   "outputs": [],
   "source": [
    "import numpy as np\n",
    "import matplotlib.pyplot as plt\n",
    "from bosonStar import *\n",
    "\n",
    "massInCU = 2e-77\n",
    "aInCU = 1e-74\n",
    "totalMassInCU = 0.1\n",
    "dtInCU = 10000.0\n",
    "bigT = 4000"
   ]
  },
  {
   "cell_type": "code",
   "execution_count": null,
   "metadata": {},
   "outputs": [],
   "source": [
    "allThings = outputProfile(massInCU, aInCU, totalMassInCU)\n",
    "#Hot Fix\n",
    "x = allThings[\"x\"][1::2]\n",
    "psi = allThings[\"profile\"][1::2]"
   ]
  },
  {
   "cell_type": "code",
   "execution_count": null,
   "metadata": {},
   "outputs": [],
   "source": [
    "def lengthCodeUnitToSI(cu):\n",
    "    return cu/6.77193e-6/100.0\n",
    "\n",
    "def lengthSIToPlanckUnit(SI):\n",
    "    return SI/1.616255e-35\n",
    "\n",
    "def densityCodeUnitToSI(cu):\n",
    "    return cu*1000.0/1.619e-18\n",
    "\n",
    "def densitySIToPlanckUnit(SI):\n",
    "    return SI/5.155e96\n",
    "\n",
    "def massCodeUnitToSI(cu):\n",
    "    return cu/5.02788e-34/1000\n",
    "\n",
    "def massSIToPlanckUnit(SI):\n",
    "    return SI/2.176434e-8\n",
    "\n",
    "def timeCodeUnitToSI(cu):\n",
    "    return cu/2.03017e5\n",
    "\n",
    "def timeSIToPlanckUnit(SI):\n",
    "    return SI/5.391247e-44"
   ]
  },
  {
   "cell_type": "code",
   "execution_count": null,
   "metadata": {},
   "outputs": [],
   "source": [
    "totalMass = massSIToPlanckUnit(massCodeUnitToSI(totalMassInCU))\n",
    "m = massSIToPlanckUnit(massCodeUnitToSI(massInCU))\n",
    "a = lengthSIToPlanckUnit(lengthCodeUnitToSI(aInCU))\n",
    "N = totalMass/m"
   ]
  },
  {
   "cell_type": "code",
   "execution_count": null,
   "metadata": {},
   "outputs": [],
   "source": [
    "HBAR = 1.0\n",
    "G = 1.0\n",
    "c = 1.0"
   ]
  },
  {
   "cell_type": "code",
   "execution_count": null,
   "metadata": {},
   "outputs": [],
   "source": [
    "Ra = np.sqrt(a/m/m/m)\n",
    "omegaA = m*m/np.abs(a)\n",
    "epsilon = 1.0/omegaA/m/Ra/Ra\n",
    "a0 = np.sqrt(1.0/omegaA/m)\n",
    "delta = 4.0*np.pi*a*N/a0\n",
    "GM = totalMass/Ra/Ra/Ra/omegaA/omegaA\n",
    "\n",
    "print(\"R:\", Ra)\n",
    "print(\"Omega:\" ,omegaA)\n",
    "print(\"Epsilon (Should be 1):\", epsilon)\n",
    "print(\"Delta:\", delta)\n",
    "print(\"New G:\", GM)"
   ]
  },
  {
   "cell_type": "code",
   "execution_count": null,
   "metadata": {},
   "outputs": [],
   "source": [
    "x = lengthSIToPlanckUnit(lengthCodeUnitToSI(x))/Ra\n",
    "x = np.concatenate((np.flip(-x), x))\n",
    "\n",
    "psi = np.sqrt(densitySIToPlanckUnit(densityCodeUnitToSI(psi))/totalMass)*np.power(Ra, 3.0/2.0)\n",
    "psi = np.concatenate((np.flip(psi), psi))\n",
    "normalization = np.trapz(2.0*np.pi*x*x*np.absolute(psi)*np.absolute(psi), x)\n",
    "psi = psi/normalization\n",
    "psi = psi.astype(complex)\n",
    "\n",
    "for index, value in enumerate(psi):\n",
    "    if(value<1e-8):\n",
    "        psi[index] = 0\n",
    "psi = psi.astype(complex)\n",
    "\n",
    "size = len(psi)\n",
    "dt = timeSIToPlanckUnit(timeCodeUnitToSI(dtInCU))*omegaA\n",
    "\n",
    "print(psi)\n",
    "print(dt)"
   ]
  },
  {
   "cell_type": "code",
   "execution_count": null,
   "metadata": {},
   "outputs": [],
   "source": [
    "dx = x[1]-x[0]\n",
    "T = np.zeros((size,size))\n",
    "TSph = np.zeros((size,size))\n",
    "V = np.zeros((size,size))\n",
    "Q = np.zeros((size,size))\n",
    "V2Grav = np.zeros((size,size))\n",
    "I = np.identity(size)\n",
    "I = I.astype(complex)\n",
    "\n",
    "phi = -np.exp(-x*x)/1000.0\n",
    "phi[0] = 0.0\n",
    "phi[size-1] = 0.0"
   ]
  },
  {
   "cell_type": "code",
   "execution_count": null,
   "metadata": {},
   "outputs": [],
   "source": [
    "def setupT():\n",
    "    global T, TSph\n",
    "    for i in range(size):\n",
    "        T[i][i] = -2.0\n",
    "        if(i!=size-1):\n",
    "            T[i][i+1] = 1.0\n",
    "            TSph[i][i+1] = 1.0/2.0/x[i]\n",
    "        if(i!=0):\n",
    "            T[i][i-1] = 1.0\n",
    "            TSph[i][i-1] = -1.0/2.0/x[i]\n",
    "\n",
    "    T = -1.0/2.0/dx/dx*T\n",
    "    TSph = -1.0/dx*TSph\n",
    "    T = T.astype(complex)\n",
    "    TSph = TSph.astype(complex)\n",
    "\n",
    "def setupQ():\n",
    "    global Q\n",
    "    for i in range(size):\n",
    "        if(np.absolute(psi[i]) >= 1e-8):\n",
    "            Q[i][i] = delta*np.absolute(psi[i])*np.absolute(psi[i])\n",
    "\n",
    "    Q = Q.astype(complex)\n",
    "\n",
    "def setupV2Grav():\n",
    "    global V2Grav, phi, psi\n",
    "\n",
    "    phi[0] = 0.0\n",
    "    phi[size-1] = 0.0\n",
    "\n",
    "    VGrav = np.zeros((size,size))\n",
    "    VGrav2 = np.zeros((size))\n",
    "    for i in range(size):\n",
    "        if(i!=size-1 and i!=0):\n",
    "            VGrav[i][i+1] = 1.0/2.0 + 1.0/2.0*dx/x[i]\n",
    "            VGrav[i][i-1] = 1.0/2.0 - 1.0/2.0*dx/x[i]\n",
    "        if(np.absolute(psi[i]) >= 1e-8):\n",
    "            VGrav2[i] = 2.0*np.pi*dx*dx*np.absolute(psi[i])*np.absolute(psi[i])*GM\n",
    "\n",
    "    toler = 3e-8\n",
    "    count = 0\n",
    "\n",
    "    while(True):\n",
    "        phiNew = np.dot(VGrav, phi) - VGrav2\n",
    "        error = np.abs((phiNew-phi)/phi)\n",
    "        phi = phiNew\n",
    "        count = count + 1\n",
    "        if(np.nanmax(error[error!=np.inf])<toler):\n",
    "            print(count)\n",
    "            break\n",
    "        \n",
    "    for i in range(size//2):\n",
    "        if(np.absolute(psi[i]) >= 1e-8):\n",
    "            V2Grav[i][i] = phi[size-i-1]\n",
    "            V2Grav[size-i-1][size-i-1] = phi[size-i-1]\n",
    "        #Regulate\n",
    "        phi[i] = phi[size-i-1]\n",
    "\n",
    "    V2Grav.astype(complex)\n",
    "\n",
    "def setupU1U2():\n",
    "    global U1, U2\n",
    "    U1 = I + 1.0j*dt/2.0/HBAR*(T+TSph+Q+V2Grav)\n",
    "    U2 = I - 1.0j*dt/2.0/HBAR*(T+TSph+Q+V2Grav)\n",
    "    #U1 = I + 1.0j*dt/2.0*(T+TSph+V2Grav)\n",
    "    #U2 = I - 1.0j*dt/2.0*(T+TSph+V2Grav)"
   ]
  },
  {
   "cell_type": "code",
   "execution_count": null,
   "metadata": {},
   "outputs": [],
   "source": [
    "setupT()"
   ]
  },
  {
   "cell_type": "code",
   "execution_count": null,
   "metadata": {},
   "outputs": [],
   "source": [
    "setupU1U2()\n",
    "hello = []\n",
    "ts = []\n",
    "oldGM = GM\n",
    "newGM = GM*1.1\n",
    "for t in range(bigT):\n",
    "    #Pertubation\n",
    "    if(t==0):\n",
    "        GM = newGM\n",
    "    if(t==10):\n",
    "        GM = oldGM\n",
    "\n",
    "\n",
    "    print(t, t*dt, np.absolute(psi[size//2]))\n",
    "    if(GM == oldGM):\n",
    "        hello.append(np.absolute(psi[size//2])*np.absolute(psi[size//2]))\n",
    "        ts.append(t*dt)\n",
    "\n",
    "    setupQ()\n",
    "    setupV2Grav()\n",
    "    setupU1U2()\n",
    "    psi = np.linalg.solve(U2, np.dot(U1,psi))\n",
    "\n",
    "    #Regulate\n",
    "    for i in range(size//2):\n",
    "        psi[i] = psi[size-i-1]\n",
    "\n",
    "    V2Grav.astype(complex)\n",
    "\n",
    "    if t%100 == 0:\n",
    "        plt.plot(x, np.absolute(psi)*np.absolute(psi))\n",
    "\n",
    "plt.xlabel(r\"$r$ (dimensionless)\")\n",
    "plt.ylabel(r\"$\\left | \\psi^2 \\right |$ (dimensionless)\")\n",
    "plt.show()"
   ]
  },
  {
   "cell_type": "code",
   "execution_count": null,
   "metadata": {},
   "outputs": [],
   "source": [
    "plt.plot(ts, hello)\n",
    "plt.xlabel(r\"$t$ (dimensionless)\")\n",
    "plt.ylabel(r\"$\\left | \\psi^2 \\right |$ (dimensionless)\")\n",
    "plt.show()"
   ]
  },
  {
   "cell_type": "code",
   "execution_count": null,
   "metadata": {},
   "outputs": [],
   "source": [
    "sp = np.fft.fft(hello)\n",
    "freq = np.fft.fftfreq(len(hello), d=dt)*omegaA/5.391247e-44\n",
    "\n",
    "plt.plot(freq, np.absolute(sp))\n",
    "plt.xlim(0.01,0.7)\n",
    "plt.ylim(0.0,0.015)\n",
    "plt.xlabel(\"f (1/s)\")"
   ]
  },
  {
   "cell_type": "code",
   "execution_count": null,
   "metadata": {},
   "outputs": [],
   "source": [
    "for i in range(len(freq)):\n",
    "    print(freq[i], np.absolute(sp[i]))"
   ]
  },
  {
   "cell_type": "markdown",
   "metadata": {},
   "source": [
    "Middle\n",
    "0.071-0.081\t\t\tM1 (M2: 0.142-0.162, M3: 0.213-0.243, M4: 0.284-0.324, M5: 0.355-0.405)\n",
    "0.132-0.137\t\t\tM1?\n",
    "0.158-0.163\t\t\tM2\n",
    "0.193-0.204\t\t\tM1?\n",
    "0.239-0.249\t\t\tM3\n",
    "0.295-0.305\t\t\tM4\n",
    "0.361-0.371\t\t\tM5\n",
    "\n",
    "0.076-0.086\t\t\tM1\n",
    "0.132-0.142\t\t\tM1?\n",
    "0.158-0.168\t\t\tM2\n",
    "\n",
    "Small\n",
    "0.097-0.107\t\tM1\n",
    "0.163-0.173\t\tM1?\n",
    "0.214-0.224\t\tM2\n",
    "0.270-0.280\t\tM1?\n",
    "0.341-0.351\t\tM3\n",
    "0.432-0.443\t\tM4\n",
    "0.534-0.544\t\tM5\n",
    "0.651-0.661\t\tM6"
   ]
  }
 ],
 "metadata": {
  "kernelspec": {
   "display_name": "base",
   "language": "python",
   "name": "python3"
  },
  "language_info": {
   "codemirror_mode": {
    "name": "ipython",
    "version": 3
   },
   "file_extension": ".py",
   "mimetype": "text/x-python",
   "name": "python",
   "nbconvert_exporter": "python",
   "pygments_lexer": "ipython3",
   "version": "3.11.7"
  }
 },
 "nbformat": 4,
 "nbformat_minor": 2
}
