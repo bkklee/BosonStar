{
 "cells": [
  {
   "cell_type": "code",
   "execution_count": 1,
   "metadata": {},
   "outputs": [],
   "source": [
    "import numpy as np\n",
    "import matplotlib.pyplot as plt\n",
    "from bosonStar import *\n",
    "from util import *\n",
    "import sys\n",
    "\n",
    "from ctypes import *\n",
    "file = \"./grav.so\"\n",
    "my_func = CDLL(file)\n",
    "\n",
    "#Middle\n",
    "massInCU = 2e-77\n",
    "aInCU = 5e-73\n",
    "totalMassInCU = 0.1\n",
    "dtInCU = 6000.0\n",
    "bigT = 20000"
   ]
  },
  {
   "cell_type": "code",
   "execution_count": 2,
   "metadata": {},
   "outputs": [
    {
     "name": "stdout",
     "output_type": "stream",
     "text": [
      "Solving for a pure boson star\n",
      "Big Lambda: 50000\n",
      "\n",
      "Results of the fourth order ODE solver:\n",
      "farPoint (0-1, check if too close to boundary values): 0.704678\n",
      "A2 (0.001-15.0, check if too close to boundary values): 0.319763\n",
      "Furthest solved star: 20017.3\n",
      "MCU 0.12014029054733408\n",
      "Solving for a pure boson star\n",
      "Big Lambda: 50000\n",
      "\n",
      "Results of the fourth order ODE solver:\n",
      "farPoint (0-1, check if too close to boundary values): 0.721536\n",
      "A2 (0.001-15.0, check if too close to boundary values): 0.357514\n",
      "Furthest solved star: 22465.6\n",
      "MCU 0.09893027968460597\n",
      "Solving for a pure boson star\n",
      "Big Lambda: 50000\n",
      "\n",
      "Results of the fourth order ODE solver:\n",
      "farPoint (0-1, check if too close to boundary values): 0.706066\n",
      "A2 (0.001-15.0, check if too close to boundary values): 0.355502\n",
      "Furthest solved star: 21873.1\n",
      "MCU 0.09994775998032948\n",
      "Solving for a pure boson star\n",
      "Big Lambda: 50000\n",
      "\n",
      "Results of the fourth order ODE solver:\n",
      "farPoint (0-1, check if too close to boundary values): 0.706066\n",
      "A2 (0.001-15.0, check if too close to boundary values): 0.355502\n",
      "Furthest solved star: 21873.1\n",
      "MCU 0.09994775998032948\n",
      "MU= 0.8408150907831595 MASS= 0.09994775998032948\n",
      "FAR POINT: 353034 500000\n"
     ]
    },
    {
     "data": {
      "image/png": "[encoded data removed]",
      "text/plain": [
       "<Figure size 640x480 with 1 Axes>"
      ]
     },
     "metadata": {},
     "output_type": "display_data"
    },
    {
     "name": "stdout",
     "output_type": "stream",
     "text": [
      "(1420,)\n"
     ]
    }
   ],
   "source": [
    "allThings = outputProfile(massInCU, aInCU, totalMassInCU, 4000)\n",
    "#Hot Fix\n",
    "x = allThings[\"x\"][1::2]\n",
    "psi = allThings[\"profile\"][1::2]\n",
    "\n",
    "dx = x[1]-x[0]\n",
    "print(x.shape)"
   ]
  },
  {
   "cell_type": "code",
   "execution_count": 3,
   "metadata": {},
   "outputs": [
    {
     "name": "stdout",
     "output_type": "stream",
     "text": [
      "R: 8.650166089559582e+40\n",
      "Omega: 7.312258185996928e-44\n",
      "Epsilon (Should be 1): 1.0000000000000002\n",
      "Delta: 33.18204016779061\n",
      "New G: 2.6405428572888505\n"
     ]
    }
   ],
   "source": [
    "totalMass = massSIToPlanckUnit(massCodeUnitToSI(totalMassInCU))\n",
    "m = massSIToPlanckUnit(massCodeUnitToSI(massInCU))\n",
    "a = lengthSIToPlanckUnit(lengthCodeUnitToSI(aInCU))\n",
    "N = totalMass/m\n",
    "Ra = np.sqrt(a/m/m/m)\n",
    "omegaA = m*m/np.abs(a)\n",
    "epsilon = 1.0/omegaA/m/Ra/Ra\n",
    "a0 = np.sqrt(1.0/omegaA/m)\n",
    "delta = 4.0*np.pi*a*N/a0\n",
    "GM = totalMass/Ra/Ra/Ra/omegaA/omegaA\n",
    "\n",
    "print(\"R:\", Ra)\n",
    "print(\"Omega:\" ,omegaA)\n",
    "print(\"Epsilon (Should be 1):\", epsilon)\n",
    "print(\"Delta:\", delta)\n",
    "print(\"New G:\", GM)"
   ]
  },
  {
   "cell_type": "code",
   "execution_count": 4,
   "metadata": {},
   "outputs": [
    {
     "name": "stdout",
     "output_type": "stream",
     "text": [
      "[0.+0.j 0.+0.j 0.+0.j ... 0.+0.j 0.+0.j 0.+0.j]\n",
      "0.04008493026196092\n"
     ]
    }
   ],
   "source": [
    "x = lengthSIToPlanckUnit(lengthCodeUnitToSI(x))/Ra\n",
    "x = np.concatenate((np.flip(-x), x))\n",
    "\n",
    "psi = np.sqrt(densitySIToPlanckUnit(densityCodeUnitToSI(psi))/totalMass)*np.power(Ra, 3.0/2.0)\n",
    "psi = np.concatenate((np.flip(psi), psi))\n",
    "normalization = np.trapz(2.0*np.pi*x*x*np.absolute(psi)*np.absolute(psi), x)\n",
    "psi = psi/normalization\n",
    "psi = psi.astype(complex)\n",
    "\n",
    "size = len(psi)\n",
    "dt = timeSIToPlanckUnit(timeCodeUnitToSI(dtInCU))*omegaA\n",
    "dx = x[1]-x[0]\n",
    "\n",
    "print(psi)\n",
    "print(dt)"
   ]
  },
  {
   "cell_type": "code",
   "execution_count": 5,
   "metadata": {},
   "outputs": [],
   "source": [
    "T = np.zeros((size,size)).astype(complex)\n",
    "TSph = np.zeros((size,size)).astype(complex)\n",
    "Q = np.zeros((size,size)).astype(complex)\n",
    "V2Grav = np.zeros((size,size)).astype(complex)\n",
    "I = np.identity(size).astype(complex)\n",
    "phi = np.zeros((size))"
   ]
  },
  {
   "cell_type": "code",
   "execution_count": 6,
   "metadata": {},
   "outputs": [],
   "source": [
    "def setupT():\n",
    "    global T, TSph\n",
    "    for i in range(size):\n",
    "        if i==0:\n",
    "            T[i][i] = -5.0/2.0 + 4.0/3.0 - 1.0/12.0\n",
    "            T[i][i+1] = 4.0/3.0\n",
    "            T[i][i+2] = -1.0/12.0\n",
    "            TSph[i][i+1] = 1.0/2.0/x[i]\n",
    "            TSph[i][i] = -1.0/2.0/x[i]\n",
    "        elif i==1:\n",
    "            T[i][i-1] = 4.0/3.0 -1.0/12.0\n",
    "            T[i][i] = -5.0/2.0\n",
    "            T[i][i+1] = 4.0/3.0\n",
    "            T[i][i+2] = -1.0/12.0\n",
    "            TSph[i][i+1] = 1.0/2.0/x[i]\n",
    "            TSph[i][i-1] = -1.0/2.0/x[i]\n",
    "        elif i==size-2:\n",
    "            T[i][i-2] = -1.0/12.0\n",
    "            T[i][i-1] = 4.0/3.0\n",
    "            T[i][i] = -5.0/2.0\n",
    "            T[i][i+1] = 4.0/3.0 - 1.0/12.0\n",
    "            TSph[i][i+1] = 1.0/2.0/x[i]\n",
    "            TSph[i][i-1] = -1.0/2.0/x[i]\n",
    "        elif i==size-1:\n",
    "            T[i][i-2] = -1.0/12.0\n",
    "            T[i][i-1] = 4.0/3.0\n",
    "            T[i][i] = -5.0/2.0 + 4.0/3.0 -1.0/12.0\n",
    "            TSph[i][i-1] = -1.0/2.0/x[i]\n",
    "            TSph[i][i] = 1.0/2.0/x[i]\n",
    "        else:\n",
    "            T[i][i-2] = -1.0/12.0\n",
    "            T[i][i-1] = 4.0/3.0\n",
    "            T[i][i] = -5.0/2.0\n",
    "            T[i][i+1] = 4.0/3.0\n",
    "            T[i][i+2] = -1.0/12.0\n",
    "            TSph[i][i+1] = 1.0/2.0/x[i]\n",
    "            TSph[i][i-1] = -1.0/2.0/x[i]\n",
    "\n",
    "    T = -1.0/2.0/dx/dx*T\n",
    "    TSph = -1.0/dx*TSph\n",
    "\n",
    "def setupQ():\n",
    "    global Q\n",
    "    for i in range(size):\n",
    "        Q[i][i] = delta*np.absolute(psi[i])*np.absolute(psi[i])\n",
    "\n",
    "def setupV2Grav():\n",
    "    global V2Grav, phi, psi\n",
    "\n",
    "    rho = np.absolute(psi)[size//2:]*np.absolute(psi)[size//2:]\n",
    "    rho_c = (c_double * size)(*rho)\n",
    "    phi_c = (c_double * size)(*np.absolute(phi)[size//2:])\n",
    "    my_func.findGravRho(rho_c, phi_c, c_int(size//2), c_double(dx))\n",
    "    for i in range(size//2):\n",
    "        place = int(size//2 + i)\n",
    "        phi[place] = phi_c[i] * GM\n",
    "\n",
    "    for i in range(size//2):\n",
    "        V2Grav[i][i] = phi[size-i-1]\n",
    "        V2Grav[size-i-1][size-i-1] = phi[size-i-1]\n",
    "            \n",
    "        phi[i] = phi[size-i-1] #Regulate\n",
    "\n",
    "def setupU1U2():\n",
    "    global U1, U2\n",
    "    U1 = I + 1.0j*dt/2.0*(T+TSph+Q+V2Grav)\n",
    "    U2 = I - 1.0j*dt/2.0*(T+TSph+Q+V2Grav)"
   ]
  },
  {
   "cell_type": "code",
   "execution_count": 7,
   "metadata": {},
   "outputs": [
    {
     "name": "stdout",
     "output_type": "stream",
     "text": [
      "0 0.0 0.10325629068076529 1.0005503803532922\n",
      "1 0.04008493026196092 0.10325679872137018 1.0005503799957274\n",
      "2 0.08016986052392185 0.10326021751233355 1.0005503794097648\n",
      "3 0.12025479078588278 0.10326350767399771 1.0005503785836387\n",
      "4 0.1603397210478437 0.10326932435690418 1.0005503775280982\n",
      "5 0.2004246513098046 0.10327539448865644 1.0005503762348105\n",
      "6 0.24050958157176555 0.10328371038221879 1.0005503747123798\n",
      "7 0.28059451183372647 0.10329252080837056 1.0005503729549496\n",
      "8 0.3206794420956874 0.10330335191596902 1.0005503709697372\n",
      "9 0.3607643723576483 0.10331483743799351 1.0005503687528163\n",
      "10 0.4008493026196092 0.10332815289034698 1.00055036631045\n",
      "11 0.44093423288157013 0.10334222745058035 1.0005503636402744\n",
      "12 0.4810191631435311 0.10335796396216466 1.000550360747881\n",
      "13 0.521104093405492 0.10337452389684088 1.0005503576321946\n",
      "14 0.5611890236674529 0.1033925937935431 1.000550354298328\n",
      "15 0.6012739539294139 0.10341152082341372 1.0005503507462872\n",
      "16 0.6413588841913748 0.10343181772309512 1.000550346980841\n",
      "17 0.6814438144533357 0.1034529819454079 1.0005503430028995\n",
      "18 0.7215287447152966 0.10347538538962331 1.0005503388169834\n",
      "19 0.7616136749772575 0.10349864828565128 1.0005503344247693\n",
      "20 0.8016986052392184 0.1035230277800023 1.0005503298305924\n",
      "21 0.8417835355011793 0.10354824516426002 1.0005503250367744\n",
      "22 0.8818684657631403 0.10357446377569463 1.0005503200475112\n",
      "23 0.9219533960251012 0.10360148858934404 1.000550314865664\n",
      "24 0.9620383262870622 0.10362940612907978 1.0005503094953176\n",
      "25 1.002123256549023 0.10365809098478515 1.0005503039397818\n",
      "26 1.042208186810984 0.1036875667676578 1.0005502982030499\n",
      "27 1.0822931170729448 0.10371776617655121 1.0005502922887988\n",
      "28 1.1223780473349059 0.10374866134517949 1.0005502862009368\n",
      "29 1.1624629775968667 0.10378023358576385 1.0005502799434394\n",
      "30 1.2025479078588277 0.10381241300106615 1.0005502735201357\n",
      "31 1.2426328381207885 0.1038452216178472 1.0005502669352337\n",
      "32 1.2827177683827495 0.10387855533545333 1.000550260192485\n",
      "33 1.3228026986447106 0.10391247027799641 1.0005502532962716\n"
     ]
    }
   ],
   "source": [
    "setupT()\n",
    "setupQ()\n",
    "setupV2Grav()\n",
    "setupU1U2()\n",
    "\n",
    "\n",
    "#Record\n",
    "gravitationalForce = []\n",
    "pressureGradient = []\n",
    "quantumPressure = []\n",
    "\n",
    "hello = []\n",
    "ts = []\n",
    "oldGM = GM\n",
    "newGM = GM*1.05\n",
    "for t in range(bigT):\n",
    "    #Pertubation\n",
    "    if(t*dt<2.0):\n",
    "        GM = newGM\n",
    "    if(t*dt>=2.0):\n",
    "        GM = oldGM\n",
    "\n",
    "    setupQ()\n",
    "    setupV2Grav()\n",
    "    setupU1U2()\n",
    "    psi = np.linalg.solve(U2, np.dot(U1,psi))\n",
    "\n",
    "    #Regulate\n",
    "    for i in range(size//2):\n",
    "        psi[i] = psi[size-i-1]\n",
    "\n",
    "    normalization = np.trapz(2.0*np.pi*x*x*np.absolute(psi)*np.absolute(psi), x)\n",
    "    if(normalization >= 1.01):\n",
    "        break\n",
    "    print(t, t*dt, np.absolute(psi[size//2]), normalization)\n",
    "    if(t*dt >= 10.0):\n",
    "        hello.append(np.absolute(psi[size//2])*np.absolute(psi[size//2]))\n",
    "        ts.append(t*dt)\n",
    "\n",
    "        #Record\n",
    "        rho0 = (np.absolute(psi[size//2 + 14])*np.absolute(psi[size//2 + 14]))/Ra/Ra/Ra*totalMass\n",
    "        rho1 = (np.absolute(psi[size//2 + 15])*np.absolute(psi[size//2 + 15]))/Ra/Ra/Ra*totalMass\n",
    "        rho2 = (np.absolute(psi[size//2 + 16])*np.absolute(psi[size//2 + 16]))/Ra/Ra/Ra*totalMass\n",
    "        rho3 = (np.absolute(psi[size//2 + 17])*np.absolute(psi[size//2 + 17]))/Ra/Ra/Ra*totalMass\n",
    "        Q0 = -((np.sqrt(rho0) -2*np.sqrt(rho1) + np.sqrt(rho2))/(dx*Ra)/(dx*Ra) + 2.0/(x[size//2 + 15]*Ra)*(np.sqrt(rho1)-np.sqrt(rho0))/(dx*Ra))/np.sqrt(rho1)/2.0/m\n",
    "        Q1 = -((np.sqrt(rho1) -2*np.sqrt(rho2) + np.sqrt(rho3))/(dx*Ra)/(dx*Ra) + 2.0/(x[size//2 + 16]*Ra)*(np.sqrt(rho2)-np.sqrt(rho1))/(dx*Ra))/np.sqrt(rho2)/2.0/m\n",
    "\n",
    "        gravitationalForce.append((phi[size//2 + 16]-phi[size//2 + 15])/dx)\n",
    "        pressureGradient.append(4.0*np.pi*a/m/m/m*(rho2-rho1)/(dx*Ra)/Ra/omegaA/omegaA)\n",
    "        quantumPressure.append((Q1-Q0)/m/(dx*Ra)/Ra/omegaA/omegaA)\n",
    "\n",
    "    if t%100 == 0:\n",
    "        plt.plot(x, np.absolute(psi)*np.absolute(psi))\n",
    "\n",
    "plt.xlabel(r\"$r$ (dimensionless)\")\n",
    "plt.ylabel(r\"$\\left | \\psi^2 \\right |$ (dimensionless)\")\n",
    "#plt.savefig('profile_'+sys.argv[1]+'.png')\n",
    "plt.show()"
   ]
  },
  {
   "cell_type": "code",
   "execution_count": null,
   "metadata": {},
   "outputs": [],
   "source": [
    "plt.plot(ts, hello)\n",
    "plt.xlabel(r\"$t$ (dimensionless)\")\n",
    "plt.ylabel(r\"$\\left | \\psi^2 \\right |$ (dimensionless)\")\n",
    "#plt.savefig('central_density'+sys.argv[1]+'.png')\n",
    "plt.show()"
   ]
  },
  {
   "cell_type": "code",
   "execution_count": null,
   "metadata": {},
   "outputs": [],
   "source": [
    "sp = np.fft.fft(hello)\n",
    "freq = np.fft.fftfreq(len(hello), d=dt)*omegaA/5.391247e-44\n",
    "\n",
    "plt.plot(freq, np.absolute(sp))\n",
    "plt.xlim(0.01,0.4)\n",
    "plt.ylim(0.0,3.5)\n",
    "#plt.savefig('fourierTransform'+sys.argv[1]+'.png')\n",
    "plt.xlabel(\"f (1/s)\")"
   ]
  },
  {
   "cell_type": "code",
   "execution_count": null,
   "metadata": {},
   "outputs": [],
   "source": [
    "print(freq[1]-freq[0])\n",
    "for i in range(len(freq)-1):\n",
    "    if(freq[i] > 0.0 and np.absolute(sp[i]) > 0.05 and np.absolute(sp[i])>np.absolute(sp[i+1]) and np.absolute(sp[i])>np.absolute(sp[i-1])):\n",
    "        print(freq[i], np.absolute(sp[i]))"
   ]
  },
  {
   "cell_type": "code",
   "execution_count": null,
   "metadata": {},
   "outputs": [],
   "source": [
    "plt.plot(x, np.absolute(psi)*np.absolute(psi))\n",
    "print(np.absolute(psi))"
   ]
  },
  {
   "cell_type": "markdown",
   "metadata": {},
   "source": [
    "Middle\n",
    "0.071-0.081\t\t\tM1 (M2: 0.142-0.162, M3: 0.213-0.243, M4: 0.284-0.324, M5: 0.355-0.405)\n",
    "0.132-0.137\t\t\tM1?\n",
    "0.158-0.163\t\t\tM2\n",
    "0.193-0.204\t\t\tM1?\n",
    "0.239-0.249\t\t\tM3\n",
    "0.295-0.305\t\t\tM4\n",
    "0.361-0.371\t\t\tM5\n",
    "\n",
    "0.076-0.086\t\t\tM1\n",
    "0.132-0.142\t\t\tM1?\n",
    "0.158-0.168\t\t\tM2\n",
    "\n",
    "Small\n",
    "0.097-0.107\t\tM1\n",
    "0.163-0.173\t\tM1?\n",
    "0.214-0.224\t\tM2\n",
    "0.270-0.280\t\tM1?\n",
    "0.341-0.351\t\tM3\n",
    "0.432-0.443\t\tM4\n",
    "0.534-0.544\t\tM5\n",
    "0.651-0.661\t\tM6\n",
    "\n",
    "Heavy\n",
    "0.031-0.037\t\tM1\n",
    "0.058-0.065\t\tM2\n",
    "0.072-0.078\t\tM?\n",
    "0.082-0.089\t\tM?\n",
    "0.099-0.167 \tM3\n",
    "0.116-0.123\t\tM4\n",
    "0.140-0.147\t\tM5\n",
    "0.167-0.173\t\tM6?\n",
    "0.194-0.201 \tM7?"
   ]
  },
  {
   "cell_type": "code",
   "execution_count": null,
   "metadata": {},
   "outputs": [],
   "source": [
    "print(psi)"
   ]
  },
  {
   "cell_type": "code",
   "execution_count": null,
   "metadata": {},
   "outputs": [],
   "source": [
    "plt.plot(ts, gravitationalForce)\n",
    "plt.plot(ts, quantumPressure)\n",
    "plt.plot(ts, pressureGradient)\n",
    "plt.xlabel(r\"$t$ (dimensionless)\")\n",
    "plt.ylabel(r\"Different Forces\")\n",
    "plt.legend(['gr','qu','pre'])\n",
    "#plt.savefig('force'+sys.argv[1]+'.png')\n",
    "plt.show()"
   ]
  }
 ],
 "metadata": {
  "kernelspec": {
   "display_name": "base",
   "language": "python",
   "name": "python3"
  },
  "language_info": {
   "codemirror_mode": {
    "name": "ipython",
    "version": 3
   },
   "file_extension": ".py",
   "mimetype": "text/x-python",
   "name": "python",
   "nbconvert_exporter": "python",
   "pygments_lexer": "ipython3",
   "version": "3.11.7"
  }
 },
 "nbformat": 4,
 "nbformat_minor": 2
}
