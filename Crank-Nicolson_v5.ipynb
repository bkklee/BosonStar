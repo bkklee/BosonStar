{
 "cells": [
  {
   "cell_type": "code",
   "execution_count": 1,
   "metadata": {},
   "outputs": [],
   "source": [
    "import numpy as np\n",
    "import scipy\n",
    "import matplotlib.pyplot as plt\n",
    "from bosonStar import *\n",
    "from util import *\n",
    "\n",
    "from ctypes import *\n",
    "file = \"./testing.so\"\n",
    "my_func = CDLL(file)\n",
    "\n",
    "#Case: Middle\n",
    "massInCU = 2e-77\n",
    "aInCU = 1e-73\n",
    "totalMassInCU = 0.1\n",
    "dtInCU = 2500.0\n",
    "bigT = 1000"
   ]
  },
  {
   "cell_type": "code",
   "execution_count": 2,
   "metadata": {},
   "outputs": [
    {
     "name": "stderr",
     "output_type": "stream",
     "text": [
      "/home/kklee/anaconda3/lib/python3.11/site-packages/scipy/integrate/_odepack_py.py:248: ODEintWarning: Excess work done on this call (perhaps wrong Dfun type). Run with full_output = 1 to get quantitative information.\n",
      "  warnings.warn(warning_msg, ODEintWarning)\n"
     ]
    },
    {
     "name": "stdout",
     "output_type": "stream",
     "text": [
      "A2=  -0.3197640202007044  X= 20.65212130424261\n",
      "A2=  -0.4847073570464445  X= 20.0997201994404\n",
      "A2=  -0.4996237064856289  X= 40.0\n",
      "A2=  -0.5019378672755319  X= 16.740033480066963\n",
      "A2=  -0.5018381151828868  X= 18.401316802633605\n",
      "A2=  -0.5018730652697496  X= 15.347950695901392\n",
      "A2=  -0.5019295973148135  X= 22.058364116728235\n",
      "A2=  -0.5019295973148135  X= 22.058364116728235\n",
      "MU= 0.3181619365115217 MASS= 0.09999012221832808\n",
      "FAR POINT: 156400 500000\n"
     ]
    },
    {
     "data": {
      "image/png": "[encoded data removed]",
      "text/plain": [
       "<Figure size 640x480 with 1 Axes>"
      ]
     },
     "metadata": {},
     "output_type": "display_data"
    },
    {
     "name": "stdout",
     "output_type": "stream",
     "text": [
      "(2500,)\n"
     ]
    }
   ],
   "source": [
    "bosonStar = outputProfile(massInCU, aInCU, totalMassInCU, 500)\n",
    "x = bosonStar[\"x\"]\n",
    "psi = bosonStar[\"profile\"]\n",
    "\n",
    "dx = x[1]-x[0]\n",
    "for i in range(2000):\n",
    "    x = np.append(x, x[-1]+dx)\n",
    "    psi = np.append(psi, psi[-1])\n",
    "\n",
    "print(x.shape)"
   ]
  },
  {
   "cell_type": "code",
   "execution_count": 3,
   "metadata": {},
   "outputs": [
    {
     "name": "stdout",
     "output_type": "stream",
     "text": [
      "R: 3.8684718785837514e+40\n",
      "Omega: 3.656129092998465e-43\n",
      "Epsilon (Should be 1): 1.0000000000000002\n",
      "Delta: 14.839459489461666\n",
      "New G: 1.180886665279879\n"
     ]
    }
   ],
   "source": [
    "totalMass = massSIToPlanckUnit(massCodeUnitToSI(totalMassInCU))\n",
    "m = massSIToPlanckUnit(massCodeUnitToSI(massInCU))\n",
    "a = lengthSIToPlanckUnit(lengthCodeUnitToSI(aInCU))\n",
    "N = totalMass/m\n",
    "Ra = np.sqrt(a/m/m/m)\n",
    "omegaA = m*m/np.abs(a)\n",
    "epsilon = 1.0/omegaA/m/Ra/Ra\n",
    "a0 = np.sqrt(1.0/omegaA/m)\n",
    "delta = 4.0*np.pi*a*N/a0\n",
    "GM = totalMass/Ra/Ra/Ra/omegaA/omegaA\n",
    "\n",
    "print(\"R:\", Ra)\n",
    "print(\"Omega:\" ,omegaA)\n",
    "print(\"Epsilon (Should be 1):\", epsilon)\n",
    "print(\"Delta:\", delta)\n",
    "print(\"New G:\", GM)"
   ]
  },
  {
   "cell_type": "code",
   "execution_count": 4,
   "metadata": {},
   "outputs": [
    {
     "name": "stdout",
     "output_type": "stream",
     "text": [
      "[0.00258441+0.j 0.00774838+0.j 0.01289782+0.j ... 0.        +0.j\n",
      " 0.        +0.j 0.        +0.j]\n",
      "DX: 0.08851117335848695\n",
      "DT: 0.08351027137908527\n"
     ]
    }
   ],
   "source": [
    "x = lengthSIToPlanckUnit(lengthCodeUnitToSI(x))/Ra\n",
    "psi = np.sqrt(densitySIToPlanckUnit(densityCodeUnitToSI(psi))/totalMass)*np.power(Ra, 3.0/2.0)\n",
    "normalization = scipy.integrate.simpson(4.0*np.pi*x*x*np.absolute(psi)*np.absolute(psi), x=x)\n",
    "psi = psi/normalization\n",
    "psi = psi.astype(complex)\n",
    "\n",
    "for index, value in enumerate(psi):\n",
    "    if(value<1e-5):\n",
    "        psi[index] = 0.0\n",
    "\n",
    "psi = x*psi\n",
    "\n",
    "size = len(psi)\n",
    "dt = timeSIToPlanckUnit(timeCodeUnitToSI(dtInCU))*omegaA\n",
    "dx = x[1]-x[0]\n",
    "\n",
    "print(psi)\n",
    "print(\"DX:\", dx)\n",
    "print(\"DT:\", dt)"
   ]
  },
  {
   "cell_type": "code",
   "execution_count": 5,
   "metadata": {},
   "outputs": [],
   "source": [
    "T = np.zeros((size,size)).astype(complex)\n",
    "TSph = np.zeros((size,size)).astype(complex)\n",
    "Q = np.zeros((size,size)).astype(complex)\n",
    "V2Grav = np.zeros((size,size)).astype(complex)\n",
    "I = np.identity(size).astype(complex)\n",
    "phi = np.zeros((size))"
   ]
  },
  {
   "cell_type": "code",
   "execution_count": 6,
   "metadata": {},
   "outputs": [],
   "source": [
    "def setupT():\n",
    "    global T\n",
    "    for i in range(size):\n",
    "        if i==0:\n",
    "            T[i][i] = -3.0\n",
    "            T[i][i+1] = 1.0\n",
    "        elif i==size-1:\n",
    "            T[i][i] = -1.0\n",
    "            T[i][i-1] = 1.0\n",
    "        else:\n",
    "            T[i][i] = -2.0\n",
    "            T[i][i+1] = 1.0\n",
    "            T[i][i-1] = 1.0\n",
    "\n",
    "    T = -1.0/2.0/dx/dx*T\n",
    "\n",
    "def setupQ():\n",
    "    global Q\n",
    "    for i in range(size):\n",
    "        Q[i][i] = delta*np.absolute(psi[i]/x[i])*np.absolute(psi[i]/x[i])\n",
    "\n",
    "def setupV2Grav():\n",
    "    global V2Grav, phi\n",
    "\n",
    "    rho = np.absolute(psi)*np.absolute(psi)/x/x\n",
    "    rho_c = (c_double * size)(*rho)\n",
    "    phi_c = (c_double * size)(*np.absolute(phi))\n",
    "    my_func.findGravRho(rho_c, phi_c, c_int(size), c_double(dx))\n",
    "    for i in range(size):\n",
    "        phi[i] = phi_c[i] * GM\n",
    "\n",
    "    for i in range(size):\n",
    "        V2Grav[i][i] = phi[i]\n",
    "\n",
    "def setupU1U2():\n",
    "    global U1, U2\n",
    "    U1 = I + 1.0j*dt/2.0*(T+Q+V2Grav)\n",
    "    U2 = I - 1.0j*dt/2.0*(T+Q+V2Grav)"
   ]
  },
  {
   "cell_type": "code",
   "execution_count": 7,
   "metadata": {},
   "outputs": [],
   "source": [
    "def findMass():\n",
    "    for i in range(size):\n",
    "        if(i != 0):\n",
    "            temp = scipy.integrate.simpson(4.0*np.pi*np.absolute(psi[:i])*np.absolute(psi[:i]), x=x[:i])\n",
    "            if(temp > 0.99):\n",
    "                return i\n",
    "    return size-1"
   ]
  },
  {
   "cell_type": "code",
   "execution_count": 8,
   "metadata": {},
   "outputs": [
    {
     "name": "stderr",
     "output_type": "stream",
     "text": [
      "/tmp/ipykernel_384566/3746508802.py:12: RuntimeWarning: divide by zero encountered in divide\n",
      "  plt.plot(x*Ra*1.616e-35*100*6.77193e-6, pressureGradient/rhoTemp)\n",
      "/tmp/ipykernel_384566/3746508802.py:12: RuntimeWarning: invalid value encountered in divide\n",
      "  plt.plot(x*Ra*1.616e-35*100*6.77193e-6, pressureGradient/rhoTemp)\n"
     ]
    },
    {
     "data": {
      "text/plain": [
       "(0.0, 10000.0)"
      ]
     },
     "execution_count": 8,
     "metadata": {},
     "output_type": "execute_result"
    },
    {
     "data": {
      "image/png": "[encoded data removed]",
      "text/plain": [
       "<Figure size 640x480 with 1 Axes>"
      ]
     },
     "metadata": {},
     "output_type": "display_data"
    }
   ],
   "source": [
    "#Temporary\n",
    "#massInCU = 2e-77\n",
    "#aInCU = 1e-73\n",
    "#totalMassInCU = 0.1\n",
    "hBarInCU = 1.1977151493389159e-76\n",
    "setupV2Grav()\n",
    "\n",
    "rhoTemp = (np.absolute(psi)/x)*(np.absolute(psi)/x)/Ra/Ra/Ra*totalMass*5.1550e96*0.001*1.619e-18\n",
    "pressure = 2.0*np.pi*aInCU*hBarInCU*hBarInCU/massInCU/massInCU/massInCU*rhoTemp*rhoTemp\n",
    "pressureGradient = np.gradient(pressure, x*Ra*1.616e-35*100*6.77193e-6)\n",
    "gravitationalPotential = phi*Ra*Ra*omegaA*omegaA*1.616e-35*100*6.77193e-6*1.616e-35*100*6.77193e-6/5.391e-44/5.391e-44/2.03017e5/2.03017e5\n",
    "\n",
    "dRhodx = np.gradient(np.sqrt(rhoTemp), x*Ra*1.616e-35*100*6.77193e-6)\n",
    "d2Rhodx = np.gradient(dRhodx, x*Ra*1.616e-35*100*6.77193e-6)\n",
    "quantumPotential = -hBarCU*hBarCU/2.0/massInCU*(d2Rhodx + 2.0/(x*Ra*1.616e-35*100*6.77193e-6)*dRhodx)/np.sqrt(rhoTemp)\n",
    "\n",
    "plt.plot(x*Ra*1.616e-35*100*6.77193e-6, pressureGradient/rhoTemp)\n",
    "plt.plot(x*Ra*1.616e-35*100*6.77193e-6, np.gradient(gravitationalPotential, x*Ra*1.616e-35*100*6.77193e-6))\n",
    "plt.plot(x*Ra*1.616e-35*100*6.77193e-6, np.gradient(quantumPotential, x*Ra*1.616e-35*100*6.77193e-6)/massInCU)\n",
    "\n",
    "plt.xlim(0.0,10000.0)"
   ]
  },
  {
   "cell_type": "code",
   "execution_count": 9,
   "metadata": {},
   "outputs": [
    {
     "name": "stdout",
     "output_type": "stream",
     "text": [
      "0 0.0 0.08351027137908527 0.05839835939919027\n",
      "1 0.08351027137908527 0.1 0.05840230557444625\n",
      "2 0.18351027137908527 0.1 0.058409198411836415\n",
      "3 0.28351027137908524 0.1 0.058419021479678\n",
      "4 0.3835102713790852 0.1 0.05843175278421733\n",
      "5 0.4835102713790852 0.1 0.05844736335508801\n",
      "6 0.5835102713790852 0.1 0.058465818508714656\n",
      "7 0.6835102713790852 0.1 0.05848707842408993\n",
      "8 0.7835102713790851 0.1 0.05851109724057548\n",
      "9 0.8835102713790851 0.1 0.058537824776606934\n",
      "10 0.9835102713790851 0.1 0.058567206691678766\n",
      "11 1.0835102713790852 0.1 0.05859918445668457\n",
      "12 1.1835102713790853 0.1 0.0586336970956275\n"
     ]
    },
    {
     "ename": "KeyboardInterrupt",
     "evalue": "",
     "output_type": "error",
     "traceback": [
      "\u001b[0;31m---------------------------------------------------------------------------\u001b[0m",
      "\u001b[0;31mKeyboardInterrupt\u001b[0m                         Traceback (most recent call last)",
      "Cell \u001b[0;32mIn[9], line 30\u001b[0m\n\u001b[1;32m     28\u001b[0m setupV2Grav()\n\u001b[1;32m     29\u001b[0m setupU1U2()\n\u001b[0;32m---> 30\u001b[0m psi \u001b[38;5;241m=\u001b[39m np\u001b[38;5;241m.\u001b[39mlinalg\u001b[38;5;241m.\u001b[39msolve(U2, np\u001b[38;5;241m.\u001b[39mdot(U1,psi))\n\u001b[1;32m     32\u001b[0m \u001b[38;5;28mprint\u001b[39m(t, currentT, dt, np\u001b[38;5;241m.\u001b[39mabsolute(psi[\u001b[38;5;241m0\u001b[39m])\u001b[38;5;241m/\u001b[39mx[\u001b[38;5;241m0\u001b[39m])\n\u001b[1;32m     34\u001b[0m currentT \u001b[38;5;241m=\u001b[39m currentT \u001b[38;5;241m+\u001b[39m dt\n",
      "File \u001b[0;32m~/anaconda3/lib/python3.11/site-packages/numpy/core/multiarray.py:741\u001b[0m, in \u001b[0;36mdot\u001b[0;34m(a, b, out)\u001b[0m\n\u001b[1;32m    671\u001b[0m \u001b[38;5;250m    \u001b[39m\u001b[38;5;124;03m\"\"\"\u001b[39;00m\n\u001b[1;32m    672\u001b[0m \u001b[38;5;124;03m    result_type(*arrays_and_dtypes)\u001b[39;00m\n\u001b[1;32m    673\u001b[0m \n\u001b[0;32m   (...)\u001b[0m\n\u001b[1;32m    736\u001b[0m \n\u001b[1;32m    737\u001b[0m \u001b[38;5;124;03m    \"\"\"\u001b[39;00m\n\u001b[1;32m    738\u001b[0m     \u001b[38;5;28;01mreturn\u001b[39;00m arrays_and_dtypes\n\u001b[0;32m--> 741\u001b[0m \u001b[38;5;129m@array_function_from_c_func_and_dispatcher\u001b[39m(_multiarray_umath\u001b[38;5;241m.\u001b[39mdot)\n\u001b[1;32m    742\u001b[0m \u001b[38;5;28;01mdef\u001b[39;00m \u001b[38;5;21mdot\u001b[39m(a, b, out\u001b[38;5;241m=\u001b[39m\u001b[38;5;28;01mNone\u001b[39;00m):\n\u001b[1;32m    743\u001b[0m \u001b[38;5;250m    \u001b[39m\u001b[38;5;124;03m\"\"\"\u001b[39;00m\n\u001b[1;32m    744\u001b[0m \u001b[38;5;124;03m    dot(a, b, out=None)\u001b[39;00m\n\u001b[1;32m    745\u001b[0m \n\u001b[0;32m   (...)\u001b[0m\n\u001b[1;32m    829\u001b[0m \n\u001b[1;32m    830\u001b[0m \u001b[38;5;124;03m    \"\"\"\u001b[39;00m\n\u001b[1;32m    831\u001b[0m     \u001b[38;5;28;01mreturn\u001b[39;00m (a, b, out)\n",
      "\u001b[0;31mKeyboardInterrupt\u001b[0m: "
     ]
    },
    {
     "data": {
      "image/png": "[encoded data removed]",
      "text/plain": [
       "<Figure size 640x480 with 1 Axes>"
      ]
     },
     "metadata": {},
     "output_type": "display_data"
    }
   ],
   "source": [
    "setupT()\n",
    "setupQ()\n",
    "setupV2Grav()\n",
    "setupU1U2()\n",
    "currentT = 0.0\n",
    "\n",
    "#Record\n",
    "centralDensity = []\n",
    "R99 = []\n",
    "ts = []\n",
    "cfls = []\n",
    "gravitationalForce = []\n",
    "pressureGradient = []\n",
    "quantumPressure = []\n",
    "\n",
    "#Pertubation\n",
    "oldGM = GM\n",
    "newGM = GM*1.2\n",
    "\n",
    "for t in range(bigT):\n",
    "    #Pertubation\n",
    "    if(currentT<6.0):\n",
    "        GM = newGM\n",
    "    if(currentT>=6.0):\n",
    "        GM = oldGM\n",
    "\n",
    "    setupQ()\n",
    "    setupV2Grav()\n",
    "    setupU1U2()\n",
    "    psi = np.linalg.solve(U2, np.dot(U1,psi))\n",
    "\n",
    "    print(t, currentT, dt, np.absolute(psi[0])/x[0])\n",
    "\n",
    "    currentT = currentT + dt\n",
    "    dt = min(0.1, 0.1*dx/abs((np.angle(psi[1])-np.angle(psi[0]))/(dx*Ra)/m/Ra/omegaA))\n",
    "\n",
    "    #Record\n",
    "    if(GM == oldGM):\n",
    "        #Record\n",
    "        rho0 = (np.absolute(psi[0])*np.absolute(psi[0])/x[0]/x[0])/Ra/Ra/Ra*totalMass\n",
    "        rho1 = (np.absolute(psi[1])*np.absolute(psi[1])/x[1]/x[1])/Ra/Ra/Ra*totalMass\n",
    "        rho2 = (np.absolute(psi[2])*np.absolute(psi[2])/x[2]/x[2])/Ra/Ra/Ra*totalMass\n",
    "        Q0 = -((-2.0*np.sqrt(rho0) + 2.0*np.sqrt(rho1))/(dx*Ra)/(dx*Ra) + 2.0/(x[0]*Ra)*(np.sqrt(rho1)-np.sqrt(rho0))/(dx*Ra))/np.sqrt(rho0)/2.0/m\n",
    "        Q1 = -((np.sqrt(rho0) -2*np.sqrt(rho1) + np.sqrt(rho2))/(dx*Ra)/(dx*Ra) + 2.0/(x[1]*Ra)*(np.sqrt(rho2)-np.sqrt(rho1))/(dx*Ra))/np.sqrt(rho1)/2.0/m\n",
    "\n",
    "        cfls.append((np.angle(psi[1])-np.angle(psi[0]))/(dx*Ra)/m/Ra/omegaA*dt/dx)\n",
    "        R99.append(findMass())\n",
    "        centralDensity.append(np.absolute(psi[0])*np.absolute(psi[0])/x[0]/x[0])\n",
    "        ts.append(currentT)\n",
    "        gravitationalForce.append((phi[1]-phi[0])/dx)\n",
    "        pressureGradient.append(4.0*np.pi*a/m/m/m*(rho1-rho0)/(dx*Ra)/Ra/omegaA/omegaA)\n",
    "        quantumPressure.append((Q1-Q0)/m/(dx*Ra)/Ra/omegaA/omegaA)\n",
    "\n",
    "    if t%100 == 0:\n",
    "        plt.plot(x, np.absolute(psi)*np.absolute(psi)/x/x)\n",
    "\n",
    "plt.xlabel(r\"$r$ (dimensionless)\")\n",
    "plt.ylabel(r\"$\\left | \\psi^2 \\right |$ (dimensionless)\")\n",
    "plt.show()"
   ]
  },
  {
   "cell_type": "code",
   "execution_count": null,
   "metadata": {},
   "outputs": [],
   "source": [
    "plt.plot(ts, centralDensity)\n",
    "plt.xlabel(r\"$t$ (dimensionless)\")\n",
    "plt.ylabel(r\"$\\left | \\psi^2 \\right |$ (dimensionless)\")\n",
    "plt.show()"
   ]
  },
  {
   "cell_type": "code",
   "execution_count": null,
   "metadata": {},
   "outputs": [],
   "source": [
    "sp = np.fft.fft(centralDensity)\n",
    "freq = np.fft.fftfreq(len(centralDensity), d=dt)*omegaA/5.391247e-44\n",
    "\n",
    "plt.plot(freq, np.absolute(sp))\n",
    "plt.xlim(0.01,0.4)\n",
    "plt.ylim(0.0,5.0)\n",
    "plt.xlabel(\"f (1/s)\")"
   ]
  },
  {
   "cell_type": "code",
   "execution_count": null,
   "metadata": {},
   "outputs": [],
   "source": [
    "print(freq[1]-freq[0])\n",
    "for i in range(len(freq)-1):\n",
    "    if(freq[i] > 0.0 and np.absolute(sp[i]) > 0.5 and np.absolute(sp[i])>np.absolute(sp[i+1]) and np.absolute(sp[i])>np.absolute(sp[i-1])):\n",
    "        print(freq[i], np.absolute(sp[i]))"
   ]
  },
  {
   "cell_type": "code",
   "execution_count": null,
   "metadata": {},
   "outputs": [],
   "source": [
    "plt.plot(ts, R99)\n",
    "plt.xlabel(r\"$t$ (dimensionless)\")\n",
    "plt.ylabel(r\"R99\")\n",
    "plt.show()"
   ]
  },
  {
   "cell_type": "code",
   "execution_count": null,
   "metadata": {},
   "outputs": [],
   "source": [
    "sp = np.fft.fft(R99)\n",
    "freq = np.fft.fftfreq(len(R99), d=dt)*omegaA/5.391247e-44\n",
    "\n",
    "plt.plot(freq, np.absolute(sp))\n",
    "plt.xlim(0.01,0.4)\n",
    "plt.ylim(0.0,100000)\n",
    "plt.xlabel(\"f (1/s)\")"
   ]
  },
  {
   "cell_type": "code",
   "execution_count": null,
   "metadata": {},
   "outputs": [],
   "source": [
    "print(freq[1]-freq[0])\n",
    "for i in range(len(freq)-1):\n",
    "    if(freq[i] > 0.0 and np.absolute(sp[i]) > 10000 and np.absolute(sp[i])>np.absolute(sp[i+1]) and np.absolute(sp[i])>np.absolute(sp[i-1])):\n",
    "        print(freq[i], np.absolute(sp[i]))"
   ]
  },
  {
   "cell_type": "code",
   "execution_count": null,
   "metadata": {},
   "outputs": [],
   "source": [
    "plt.plot(x, np.absolute(psi)*np.absolute(psi)/x/x)\n",
    "print(np.absolute(psi)/x)"
   ]
  },
  {
   "cell_type": "code",
   "execution_count": null,
   "metadata": {},
   "outputs": [],
   "source": [
    "plt.plot(ts, cfls)\n",
    "plt.xlabel(r\"$t$ (dimensionless)\")\n",
    "plt.ylabel(r\"cfl\")\n",
    "plt.ylim(-0.3,0.3)\n",
    "plt.show()"
   ]
  },
  {
   "cell_type": "code",
   "execution_count": null,
   "metadata": {},
   "outputs": [],
   "source": [
    "sp = np.fft.fft(pressureGradient)\n",
    "freq = np.fft.fftfreq(len(pressureGradient), d=dt)*omegaA/5.391247e-44\n",
    "\n",
    "sp2 = np.fft.fft(quantumPressure)\n",
    "\n",
    "for i in range(len(freq)):\n",
    "    if(freq[i]<=-10.0 or freq[i]>=10.0):\n",
    "        sp[i] = 0.0\n",
    "#        sp2[i] = 0.0\n",
    "\n",
    "pressureGradient = np.fft.ifft(sp)\n",
    "#quantumPressure = np.fft.ifft(sp2)\n",
    "\n",
    "plt.plot(ts, gravitationalForce)\n",
    "plt.plot(ts, pressureGradient)\n",
    "plt.plot(ts, quantumPressure)\n",
    "plt.xlabel(r\"$t$ (dimensionless)\")\n",
    "plt.ylabel(r\"Different Forces\")\n",
    "plt.show()"
   ]
  },
  {
   "cell_type": "code",
   "execution_count": null,
   "metadata": {},
   "outputs": [],
   "source": [
    "sp = np.fft.fft(pressureGradient)\n",
    "freq = np.fft.fftfreq(len(pressureGradient), d=dt)*omegaA/5.391247e-44\n",
    "\n",
    "plt.plot(freq, np.absolute(sp))\n",
    "#plt.xlim(0.01,0.4)\n",
    "#plt.ylim(0.0,100000)\n",
    "plt.xlabel(\"f (1/s)\")"
   ]
  },
  {
   "cell_type": "markdown",
   "metadata": {},
   "source": [
    "Middle\n",
    "0.071-0.081\t\t\tM1 (M2: 0.142-0.162, M3: 0.213-0.243, M4: 0.284-0.324, M5: 0.355-0.405)\n",
    "0.132-0.137\t\t\tM1?\n",
    "0.158-0.163\t\t\tM2\n",
    "0.193-0.204\t\t\tM1?\n",
    "0.239-0.249\t\t\tM3\n",
    "0.295-0.305\t\t\tM4\n",
    "0.361-0.371\t\t\tM5\n",
    "\n",
    "0.076-0.086\t\t\tM1\n",
    "0.132-0.142\t\t\tM1?\n",
    "0.158-0.168\t\t\tM2\n",
    "\n",
    "Small\n",
    "0.097-0.107\t\tM1\n",
    "0.163-0.173\t\tM1?\n",
    "0.214-0.224\t\tM2\n",
    "0.270-0.280\t\tM1?\n",
    "0.341-0.351\t\tM3\n",
    "0.432-0.443\t\tM4\n",
    "0.534-0.544\t\tM5\n",
    "0.651-0.661\t\tM6\n",
    "\n",
    "Heavy\n",
    "0.031-0.037\t\tM1\n",
    "0.058-0.065\t\tM2\n",
    "0.072-0.078\t\tM?\n",
    "0.082-0.089\t\tM?\n",
    "0.099-0.167 \tM3\n",
    "0.116-0.123\t\tM4\n",
    "0.140-0.147\t\tM5\n",
    "0.167-0.173\t\tM6?\n",
    "0.194-0.201 \tM7?"
   ]
  }
 ],
 "metadata": {
  "kernelspec": {
   "display_name": "base",
   "language": "python",
   "name": "python3"
  },
  "language_info": {
   "codemirror_mode": {
    "name": "ipython",
    "version": 3
   },
   "file_extension": ".py",
   "mimetype": "text/x-python",
   "name": "python",
   "nbconvert_exporter": "python",
   "pygments_lexer": "ipython3",
   "version": "3.11.7"
  }
 },
 "nbformat": 4,
 "nbformat_minor": 2
}
